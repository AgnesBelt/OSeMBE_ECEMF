{
 "cells": [
  {
   "cell_type": "markdown",
   "metadata": {},
   "source": [
    "***WP5-OPT-MIX***"
   ]
  },
  {
   "cell_type": "code",
   "execution_count": 1,
   "metadata": {},
   "outputs": [],
   "source": [
    "import pandas as pd\n",
    "import numpy as np\n",
    "\n",
    "emissions = pd.read_csv(r\"C:\\Users\\User\\Documents\\ECEMF_OSeMBE\\results\\WP5_OPT-MIX\\results_csv\\DiscountedTechnologyEmissionsPenalty.csv\")\n",
    "emissions['region'] = emissions['TECHNOLOGY'].apply(lambda x: x[:2])\n",
    "countries_mod = {'AT':'Austria','BE':'Belgium','BG':'Bulgaria','CH':'Switzerland','CY':'Cyrpus','CZ':'Czech Republic','DE':'Germany','DK':'Denmark','EE':'Estonia','ES':'Spain','FI':'Finland','FR':'France','GR':'Greece','HR':'Croatia','HU':'Hungary','IE':'Ireland','IT':'Italy','LT':'Lithuania','LU':'Luxembourg','LV':'Latvia','MT':'Malta','NL':'Netherlands','NO':'Norway','PL':'Poland','PT':'Portugal','RO':'Romania','SE':'Sweden','SI':'Slovenia','SK':'Slovakia','UK':'United Kingdom','EU28':'EU28'}\n",
    "countrylist = []\n",
    "for i in emissions['region']:\n",
    "    countrylist.append(countries_mod[i])\n",
    "\n",
    "emissions['Country'] = countrylist\n",
    "\n",
    "table = pd.pivot_table(\n",
    "            emissions,\n",
    "            index=[\"Country\"],\n",
    "            columns=[\"YEAR\"],\n",
    "            values=['VALUE'],\n",
    "            aggfunc=np.sum,\n",
    "        )\n",
    "table.columns = table.columns.droplevel(0)\n",
    "table.index.name = None\n",
    "table\n",
    "table.to_excel('Emissions_WP5-OPT-MIX.xlsx')"
   ]
  },
  {
   "cell_type": "markdown",
   "metadata": {},
   "source": [
    "***WP5-OPT-MIX-LimBio***"
   ]
  },
  {
   "cell_type": "code",
   "execution_count": 2,
   "metadata": {},
   "outputs": [],
   "source": [
    "import pandas as pd\n",
    "import numpy as np\n",
    "\n",
    "emissions = pd.read_csv(r\"C:\\Users\\User\\Documents\\ECEMF_OSeMBE\\results\\WP5_OPT-MIX-LimBio\\results_csv\\DiscountedTechnologyEmissionsPenalty.csv\")\n",
    "emissions['region'] = emissions['TECHNOLOGY'].apply(lambda x: x[:2])\n",
    "countries_mod = {'AT':'Austria','BE':'Belgium','BG':'Bulgaria','CH':'Switzerland','CY':'Cyrpus','CZ':'Czech Republic','DE':'Germany','DK':'Denmark','EE':'Estonia','ES':'Spain','FI':'Finland','FR':'France','GR':'Greece','HR':'Croatia','HU':'Hungary','IE':'Ireland','IT':'Italy','LT':'Lithuania','LU':'Luxembourg','LV':'Latvia','MT':'Malta','NL':'Netherlands','NO':'Norway','PL':'Poland','PT':'Portugal','RO':'Romania','SE':'Sweden','SI':'Slovenia','SK':'Slovakia','UK':'United Kingdom','EU28':'EU28'}\n",
    "countrylist = []\n",
    "for i in emissions['region']:\n",
    "    countrylist.append(countries_mod[i])\n",
    "\n",
    "emissions['Country'] = countrylist\n",
    "\n",
    "table = pd.pivot_table(\n",
    "            emissions,\n",
    "            index=[\"Country\"],\n",
    "            columns=[\"YEAR\"],\n",
    "            values=['VALUE'],\n",
    "            aggfunc=np.sum,\n",
    "        )\n",
    "table.columns = table.columns.droplevel(0)\n",
    "table.index.name = None\n",
    "table\n",
    "table.to_excel('Emissions_WP5-OPT-MIX_LimBio.xlsx')"
   ]
  },
  {
   "cell_type": "markdown",
   "metadata": {},
   "source": [
    "***WP5-OPT-MIX-LimCCS***"
   ]
  },
  {
   "cell_type": "code",
   "execution_count": 3,
   "metadata": {},
   "outputs": [],
   "source": [
    "import pandas as pd\n",
    "import numpy as np\n",
    "\n",
    "emissions = pd.read_csv(r\"C:\\Users\\User\\Documents\\ECEMF_OSeMBE\\results\\WP5_OPT-MIX-LimCCS\\results_csv\\DiscountedTechnologyEmissionsPenalty.csv\")\n",
    "emissions['region'] = emissions['TECHNOLOGY'].apply(lambda x: x[:2])\n",
    "countries_mod = {'AT':'Austria','BE':'Belgium','BG':'Bulgaria','CH':'Switzerland','CY':'Cyrpus','CZ':'Czech Republic','DE':'Germany','DK':'Denmark','EE':'Estonia','ES':'Spain','FI':'Finland','FR':'France','GR':'Greece','HR':'Croatia','HU':'Hungary','IE':'Ireland','IT':'Italy','LT':'Lithuania','LU':'Luxembourg','LV':'Latvia','MT':'Malta','NL':'Netherlands','NO':'Norway','PL':'Poland','PT':'Portugal','RO':'Romania','SE':'Sweden','SI':'Slovenia','SK':'Slovakia','UK':'United Kingdom','EU28':'EU28'}\n",
    "countrylist = []\n",
    "for i in emissions['region']:\n",
    "    countrylist.append(countries_mod[i])\n",
    "\n",
    "emissions['Country'] = countrylist\n",
    "\n",
    "table = pd.pivot_table(\n",
    "            emissions,\n",
    "            index=[\"Country\"],\n",
    "            columns=[\"YEAR\"],\n",
    "            values=['VALUE'],\n",
    "            aggfunc=np.sum,\n",
    "        )\n",
    "table.columns = table.columns.droplevel(0)\n",
    "table.index.name = None\n",
    "table\n",
    "table.to_excel('Emissions_WP5-OPT-MIX_LimCCS.xlsx')"
   ]
  },
  {
   "cell_type": "markdown",
   "metadata": {},
   "source": [
    "***WP5-OPT-MIX-LimNuc***"
   ]
  },
  {
   "cell_type": "code",
   "execution_count": 4,
   "metadata": {},
   "outputs": [],
   "source": [
    "import pandas as pd\n",
    "import numpy as np\n",
    "\n",
    "emissions = pd.read_csv(r\"C:\\Users\\User\\Documents\\ECEMF_OSeMBE\\results\\WP5_OPT-MIX-LimNuc\\results_csv\\DiscountedTechnologyEmissionsPenalty.csv\")\n",
    "emissions['region'] = emissions['TECHNOLOGY'].apply(lambda x: x[:2])\n",
    "countries_mod = {'AT':'Austria','BE':'Belgium','BG':'Bulgaria','CH':'Switzerland','CY':'Cyrpus','CZ':'Czech Republic','DE':'Germany','DK':'Denmark','EE':'Estonia','ES':'Spain','FI':'Finland','FR':'France','GR':'Greece','HR':'Croatia','HU':'Hungary','IE':'Ireland','IT':'Italy','LT':'Lithuania','LU':'Luxembourg','LV':'Latvia','MT':'Malta','NL':'Netherlands','NO':'Norway','PL':'Poland','PT':'Portugal','RO':'Romania','SE':'Sweden','SI':'Slovenia','SK':'Slovakia','UK':'United Kingdom','EU28':'EU28'}\n",
    "countrylist = []\n",
    "for i in emissions['region']:\n",
    "    countrylist.append(countries_mod[i])\n",
    "\n",
    "emissions['Country'] = countrylist\n",
    "\n",
    "table = pd.pivot_table(\n",
    "            emissions,\n",
    "            index=[\"Country\"],\n",
    "            columns=[\"YEAR\"],\n",
    "            values=['VALUE'],\n",
    "            aggfunc=np.sum,\n",
    "        )\n",
    "table.columns = table.columns.droplevel(0)\n",
    "table.index.name = None\n",
    "table\n",
    "table.to_excel('Emissions_WP5-OPT-MIX_LimNuc.xlsx')"
   ]
  },
  {
   "cell_type": "markdown",
   "metadata": {},
   "source": [
    "***WP5-OPT-MIX-LimRES***"
   ]
  },
  {
   "cell_type": "code",
   "execution_count": 5,
   "metadata": {},
   "outputs": [],
   "source": [
    "import pandas as pd\n",
    "import numpy as np\n",
    "\n",
    "emissions = pd.read_csv(r\"C:\\Users\\User\\Documents\\ECEMF_OSeMBE\\results\\WP5_OPT-MIX-LimRES\\results_csv\\DiscountedTechnologyEmissionsPenalty.csv\")\n",
    "emissions['region'] = emissions['TECHNOLOGY'].apply(lambda x: x[:2])\n",
    "countries_mod = {'AT':'Austria','BE':'Belgium','BG':'Bulgaria','CH':'Switzerland','CY':'Cyrpus','CZ':'Czech Republic','DE':'Germany','DK':'Denmark','EE':'Estonia','ES':'Spain','FI':'Finland','FR':'France','GR':'Greece','HR':'Croatia','HU':'Hungary','IE':'Ireland','IT':'Italy','LT':'Lithuania','LU':'Luxembourg','LV':'Latvia','MT':'Malta','NL':'Netherlands','NO':'Norway','PL':'Poland','PT':'Portugal','RO':'Romania','SE':'Sweden','SI':'Slovenia','SK':'Slovakia','UK':'United Kingdom','EU28':'EU28'}\n",
    "countrylist = []\n",
    "for i in emissions['region']:\n",
    "    countrylist.append(countries_mod[i])\n",
    "\n",
    "emissions['Country'] = countrylist\n",
    "\n",
    "table = pd.pivot_table(\n",
    "            emissions,\n",
    "            index=[\"Country\"],\n",
    "            columns=[\"YEAR\"],\n",
    "            values=['VALUE'],\n",
    "            aggfunc=np.sum,\n",
    "        )\n",
    "table.columns = table.columns.droplevel(0)\n",
    "table.index.name = None\n",
    "table\n",
    "table.to_excel('Emissions_WP5-OPT-MIX_LimRES.xlsx')"
   ]
  }
 ],
 "metadata": {
  "kernelspec": {
   "display_name": "osembe",
   "language": "python",
   "name": "python3"
  },
  "language_info": {
   "codemirror_mode": {
    "name": "ipython",
    "version": 3
   },
   "file_extension": ".py",
   "mimetype": "text/x-python",
   "name": "python",
   "nbconvert_exporter": "python",
   "pygments_lexer": "ipython3",
   "version": "3.10.12"
  }
 },
 "nbformat": 4,
 "nbformat_minor": 2
}
